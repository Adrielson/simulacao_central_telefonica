{
 "cells": [
  {
   "cell_type": "code",
   "execution_count": 1,
   "id": "49c40b51",
   "metadata": {},
   "outputs": [],
   "source": [
    "import random\n",
    "import heapq"
   ]
  },
  {
   "cell_type": "code",
   "execution_count": 2,
   "id": "c8a345e6",
   "metadata": {},
   "outputs": [],
   "source": [
    "class Chamada:\n",
    "    def __init__(self, tempo_chegada):\n",
    "        self.tempo_chegada = tempo_chegada\n",
    "        self.tempo_espera = None\n",
    "        self.recurso = None\n",
    "\n",
    "class Recurso:\n",
    "    def __init__(self):\n",
    "        self.ocupado = False\n",
    "        self.tempo_termino_atendimento = float('inf')\n",
    "\n",
    "class Simulacao:\n",
    "    def __init__(self):\n",
    "        self.tempo_atual = 0\n",
    "        self.fila_chamadas = []\n",
    "        self.recursos = [Recurso()]\n",
    "        self.total_tempo_espera = 0\n",
    "        self.total_tempo_atendimento = 0\n",
    "        self.total_chamadas = 0\n",
    "\n",
    "    def gerar_chamada(self):\n",
    "        tempo_interchegada = random.expovariate(1.0 / 5)  # Tempo médio de interchegada: 5 unidades\n",
    "        tempo_chegada = self.tempo_atual + tempo_interchegada\n",
    "        chamada = Chamada(tempo_chegada)\n",
    "        heapq.heappush(self.fila_chamadas, (chamada.tempo_chegada, chamada))\n",
    "\n",
    "    def iniciar_atendimento(self, recurso, chamada):\n",
    "        recurso.ocupado = True\n",
    "        tempo_atendimento = random.expovariate(1.0 / 4)  # Tempo médio de atendimento: 4 unidades\n",
    "        recurso.tempo_termino_atendimento = self.tempo_atual + tempo_atendimento\n",
    "        self.total_tempo_atendimento += tempo_atendimento\n",
    "        chamada.tempo_espera = self.tempo_atual - chamada.tempo_chegada\n",
    "        self.total_tempo_espera += chamada.tempo_espera\n",
    "        self.total_chamadas += 1\n",
    "\n",
    "    def fim_atendimento(self, recurso):\n",
    "        recurso.ocupado = False\n",
    "        recurso.tempo_termino_atendimento = float('inf')\n",
    "\n",
    "        if len(self.fila_chamadas) > 0:\n",
    "            _, chamada = heapq.heappop(self.fila_chamadas)\n",
    "            self.iniciar_atendimento(recurso, chamada)\n",
    "\n",
    "    def executar(self, tempo_simulacao):\n",
    "        while self.tempo_atual < tempo_simulacao:\n",
    "            if len(self.fila_chamadas) == 0 or self.fila_chamadas[0][0] > min(recurso.tempo_termino_atendimento for recurso in self.recursos):\n",
    "                self.tempo_atual = min(recurso.tempo_termino_atendimento for recurso in self.recursos)\n",
    "                self.fim_atendimento(min(self.recursos, key=lambda x: x.tempo_termino_atendimento))\n",
    "            else:\n",
    "                self.tempo_atual, chamada = heapq.heappop(self.fila_chamadas)\n",
    "                recursos_disponiveis = [recurso for recurso in self.recursos if not recurso.ocupado]\n",
    "\n",
    "                if len(recursos_disponiveis) > 0:\n",
    "                    self.iniciar_atendimento(recursos_disponiveis[0], chamada)\n",
    "                else:\n",
    "                    self.fila_chamadas.append((self.tempo_atual, chamada))\n",
    "\n",
    "        tempo_medio_espera = self.total_tempo_espera / self.total_chamadas\n",
    "        tempo_medio_atendimento = self.total_tempo_atendimento / self.total_chamadas\n",
    "        tempo_medio_resposta = tempo_medio_espera + tempo_medio_atendimento\n",
    "\n",
    "        print(f\"Tempo médio de espera: {tempo_medio_espera:.2f} unidades\")\n",
    "        print(f\"Tempo médio de atendimento: {tempo_medio_atendimento:.2f} unidades\")\n",
    "        print(f\"Tempo médio de resposta: {tempo_medio_resposta:.2f} unidades\")"
   ]
  },
  {
   "cell_type": "code",
   "execution_count": 3,
   "id": "853a8005",
   "metadata": {
    "scrolled": false
   },
   "outputs": [
    {
     "name": "stdout",
     "output_type": "stream",
     "text": [
      "Tempo médio de espera: 0.00 unidades\n",
      "Tempo médio de atendimento: 3.51 unidades\n",
      "Tempo médio de resposta: 3.51 unidades\n"
     ]
    }
   ],
   "source": [
    "# Criação e execução da simulação por 100 unidades de tempo\n",
    "simulacao = Simulacao()\n",
    "simulacao.gerar_chamada()  # Gerar a primeira chamada\n",
    "simulacao.executar(100)"
   ]
  }
 ],
 "metadata": {
  "kernelspec": {
   "display_name": "Python 3 (ipykernel)",
   "language": "python",
   "name": "python3"
  },
  "language_info": {
   "codemirror_mode": {
    "name": "ipython",
    "version": 3
   },
   "file_extension": ".py",
   "mimetype": "text/x-python",
   "name": "python",
   "nbconvert_exporter": "python",
   "pygments_lexer": "ipython3",
   "version": "3.9.13"
  }
 },
 "nbformat": 4,
 "nbformat_minor": 5
}
